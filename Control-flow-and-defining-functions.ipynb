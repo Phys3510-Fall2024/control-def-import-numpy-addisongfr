{
 "cells": [
  {
   "cell_type": "markdown",
   "id": "3166757e-06d7-4816-a6dd-c0dcf0d92e3d",
   "metadata": {},
   "source": [
    "## 1. `if` Statement Block\n",
    "\n",
    "### Explanation:\n",
    "\n",
    "The `if` statement is the most basic control flow in Python. It allows you to execute a block of code only if a certain condition is `True`.\n",
    "\n",
    "### Syntax:\n",
    "Here is what it looks like in its most basic form.\n",
    "```python\n",
    "if condition:\n",
    "    # code block to run if the condition is True\n",
    "\n",
    "# start a new block of code without the indentation\n",
    "```\n",
    "\n",
    "In this block, we would replace `condition` with whatever our condition is. We need to keep the `:`. Then, on the next line, we indent and write our code block. Note that in many other programming languages, we would follow this with `end` or `endfif` on the last line to tell the programming language that we have completed the `if` code block. **In Python this is handled by the indent itself.** So, to end the code block, we simply start writing on a new line that is not indented.\n",
    "\n",
    "### Example"
   ]
  },
  {
   "cell_type": "code",
   "execution_count": null,
   "id": "c371e04d-2ee7-486d-8c66-b1862fab4019",
   "metadata": {},
   "outputs": [],
   "source": [
    "# Check if a number is positive\n",
    "number = 5  # Initialize the variable\n",
    "\n",
    "# If the number is greater than 0, print that it's positive\n",
    "if number > 0:  # The condition (number > 0) is checked\n",
    "    print(f\"{number} is positive\")  # This runs only if the condition is True\n"
   ]
  },
  {
   "cell_type": "markdown",
   "id": "fae7e2e2-2a12-4237-87d2-1642199dd027",
   "metadata": {},
   "source": [
    "---\n",
    "\n",
    "### Exercise\n",
    "\n",
    "Write an `if` block that checks if a given number is positive. Print a message if it is."
   ]
  },
  {
   "cell_type": "code",
   "execution_count": 5,
   "id": "b7f70050-56eb-445a-a620-e4905e546596",
   "metadata": {},
   "outputs": [],
   "source": [
    "number = -3  # You can change this to test different numbers\n",
    "\n",
    "# Write an if block to check if the number is positive\n"
   ]
  },
  {
   "cell_type": "markdown",
   "id": "95d98a4b-cf89-4d3e-aa06-9c262547fb72",
   "metadata": {},
   "source": [
    "### ★ My if Statement Block Practice"
   ]
  },
  {
   "cell_type": "code",
   "execution_count": 3,
   "id": "b1cb29f0-c561-44e9-b270-ba0ab483162b",
   "metadata": {},
   "outputs": [
    {
     "name": "stdout",
     "output_type": "stream",
     "text": [
      "-3 is negative!\n"
     ]
    }
   ],
   "source": [
    "# Checking if a number is negative -\n",
    "number = -3\n",
    "\n",
    "# If the number is less than 0, print that it's negative\n",
    "if number < 0: # The condition of (number < 0) is checked\n",
    "    print(f\"{number} is negative!\") # This will only run if the condition is true"
   ]
  },
  {
   "cell_type": "markdown",
   "id": "4f9de299-6c2e-4793-be06-f324751323b8",
   "metadata": {},
   "source": [
    "## 2. `if-else` Statement Block\n",
    "\n",
    "### Explanation:\n",
    "\n",
    "An `if-else` statement lets you execute one block of code if the condition is `True`, and another block if the condition is `False`.\n",
    "\n",
    "### Syntax:\n",
    "```python\n",
    "if condition:\n",
    "    # code block to run if the condition is True\n",
    "else:\n",
    "    # code block to run if the condition is False\n",
    "\n",
    "# begin new block of code\n",
    "```\n",
    "\n",
    "Don't forget the `:`'s, you'll get a `SyntaxError`.\n",
    "\n",
    "### Example:"
   ]
  },
  {
   "cell_type": "code",
   "execution_count": null,
   "id": "8b8c4bcb-8304-476d-a99e-4e3c628f7ece",
   "metadata": {},
   "outputs": [],
   "source": [
    "# Check if a number is positive or negative\n",
    "number = -2  # Initialize the variable\n",
    "\n",
    "# If the number is greater than 0, print positive, otherwise print non-positive\n",
    "if number > 0:  # The condition is checked\n",
    "    print(f\"{number} is positive\")  # Runs if condition is True\n",
    "else:\n",
    "    print(f\"{number} is negative\")  # Runs if condition is False\n"
   ]
  },
  {
   "cell_type": "markdown",
   "id": "28fba7b8-684c-4747-8eb4-34fd878cf642",
   "metadata": {},
   "source": [
    "---\n",
    "\n",
    "### Exercise:\n",
    "\n",
    "Write an `if-else` block to check if a number is negative; if it is, make the number positive. Print appropriate messages."
   ]
  },
  {
   "cell_type": "code",
   "execution_count": null,
   "id": "dd76de9c-6807-4c6d-8497-805e0f5bdb88",
   "metadata": {},
   "outputs": [],
   "source": [
    "number = 0  # Try different numbers, including negative numbers\n",
    "\n",
    "# Write an if-else block to check if a number is negative; if it is, make the number positive\n"
   ]
  },
  {
   "cell_type": "markdown",
   "id": "f49dd51d-2023-4389-8fc1-cd52fdca2dd0",
   "metadata": {},
   "source": [
    "### ★ My if-else Statement Block Practice"
   ]
  },
  {
   "cell_type": "code",
   "execution_count": 20,
   "id": "fbd4bb45-a762-4c13-829f-523a55477135",
   "metadata": {},
   "outputs": [
    {
     "name": "stdout",
     "output_type": "stream",
     "text": [
      "3 is now positive! :)\n"
     ]
    }
   ],
   "source": [
    "# Checking if a number is negative or non-negative -\n",
    "number = -3\n",
    "\n",
    "# If the number is less than 0, print negative, otherwise print non-negative -\n",
    "if number > 0: #The condition is checked\n",
    "    print(f\"{number} is positive!\") # Runs if the condition is true\n",
    "else:\n",
    "    print(f\"{abs(number)} is now positive! :)\") # Runs if the condition is false"
   ]
  },
  {
   "cell_type": "markdown",
   "id": "7001c108-9600-42a1-9192-9e8ee96d761c",
   "metadata": {},
   "source": [
    "## 3. `if-elif-else` Statement Block\n",
    "\n",
    "### Explanation:\n",
    "\n",
    "The `if-elif-else` structure allows for multiple conditions to be checked in sequence. Only the first condition that evaluates to `True` will execute.\n",
    "\n",
    "### Syntax:\n",
    "\n",
    "```python\n",
    "if condition1:\n",
    "    # code block if condition1 is True\n",
    "elif condition2:\n",
    "    # code block if condition1 is False and condition2 is True\n",
    "else:\n",
    "    # code block if both conditions are False\n",
    "\n",
    "```\n",
    "\n",
    "### Example:"
   ]
  },
  {
   "cell_type": "code",
   "execution_count": null,
   "id": "f91602ae-0f78-4f26-9c92-99ed0931dfa5",
   "metadata": {},
   "outputs": [],
   "source": [
    "# Check if a number is positive, negative, or zero\n",
    "number = 0  # Initialize the variable\n",
    "\n",
    "# The conditions are checked in order\n",
    "if number > 0:\n",
    "    print(f\"{number} is positive\")\n",
    "elif number < 0:\n",
    "    print(f\"{number} is negative\")\n",
    "else:\n",
    "    print(f\"{number} is zero\")  # Runs if both previous conditions are False\n"
   ]
  },
  {
   "cell_type": "markdown",
   "id": "a9d2988b-af0f-44d2-ba0b-9d38f4c309a3",
   "metadata": {},
   "source": [
    "---\n",
    "\n",
    "### Exercise:\n",
    "\n",
    "Write an `if-elif-else` block to give:\n",
    "\n",
    "* the number if is it greater than 1;\n",
    "* one over the number if is between 0 and 1;\n",
    "* and, zero if it is less than or equal to zero."
   ]
  },
  {
   "cell_type": "code",
   "execution_count": null,
   "id": "9d354f72-3e97-4640-b265-73338d7da628",
   "metadata": {},
   "outputs": [],
   "source": [
    "number = 10  # Try different numbers, including negative and zero\n",
    "\n",
    "# Write an if-elif-else block to classify the number as described above\n"
   ]
  },
  {
   "cell_type": "markdown",
   "id": "8aaa070f-a1ea-4659-987c-ebb1e37d5d5f",
   "metadata": {},
   "source": [
    "### ★ My if-elif-else Statement Block Practice"
   ]
  },
  {
   "cell_type": "code",
   "execution_count": 27,
   "id": "d0bfcdaa-a2d4-4488-be9a-c0481b6cb310",
   "metadata": {},
   "outputs": [
    {
     "name": "stdout",
     "output_type": "stream",
     "text": [
      "2.0 is the reciprocal of 0.5!\n"
     ]
    }
   ],
   "source": [
    "# Check if a number is positive, negative, or zero\n",
    "number = 0.5\n",
    "\n",
    "# The conditions are checked in order\n",
    "if number > 1:\n",
    "    print(f\"{number} is greater than one!\")\n",
    "elif 0 <= number <= 1:\n",
    "    print(f\"{1/number} is the reciprocal of {number}!\")\n",
    "else:\n",
    "    print(f\"0\")  # Runs if both previous conditions are False"
   ]
  },
  {
   "cell_type": "markdown",
   "id": "a2feba4f-5708-4399-81a1-55a7777be3d5",
   "metadata": {},
   "source": [
    "## 4. `while` Loop Block\n",
    "\n",
    "### Explanation:\n",
    "\n",
    "A `while` loop repeats a block of code as long as a condition remains `True`. **Make sure the condition changes within the loop to avoid infinite loops.** \n",
    "\n",
    "You can break an infinite loop with the following approaches:\n",
    "\n",
    "1. If you are working in the command line with python, `CTRL+C` or `command+C`.\n",
    "2. In Jupyter Notebook,\n",
    "   1. Under the `Kernel` tab above, look for `Interrupt Kernal`. If that doesn't work, try `Shut Down Kernel` from the same menu.\n",
    "   2. If these all fail, navigate to the Command Prompt/Terminal/Git-BASH and close Jupyter Notebook.\n",
    "\n",
    "### Syntax:\n",
    "\n",
    "```python\n",
    "while condition:\n",
    "    # code block to repeat while condition is True\n",
    "```\n",
    "\n",
    "### Example:"
   ]
  },
  {
   "cell_type": "code",
   "execution_count": null,
   "id": "77ea255b-5e33-4575-942a-c1f5173606b5",
   "metadata": {},
   "outputs": [],
   "source": [
    "# Print numbers from 1 to 5 using a while loop\n",
    "i = 1  # Initialize the loop variable\n",
    "\n",
    "# The loop runs while i is less than or equal to 5\n",
    "while i <= 5:\n",
    "    print(i)  # Print the current value of i\n",
    "    i += 1  # Increment i by 1 to avoid infinite loop\n"
   ]
  },
  {
   "cell_type": "markdown",
   "id": "d6ffba16-fc9a-4dc9-be80-bda2aa1d04d0",
   "metadata": {},
   "source": [
    "---\n",
    "\n",
    "### Exercise:\n",
    "\n",
    "Write a `while` loop that prints all even numbers between 1 and 10."
   ]
  },
  {
   "cell_type": "code",
   "execution_count": null,
   "id": "26ff297a-bb57-43ee-8cc2-b2381e1c0073",
   "metadata": {},
   "outputs": [],
   "source": [
    "# Initialize the loop variable\n",
    "i = 1  # Start at 1\n",
    "\n",
    "# Write a while loop to print only even numbers between 1 and 10\n"
   ]
  },
  {
   "cell_type": "markdown",
   "id": "d7f49298-d544-4f86-b6da-ca0ea1caaa34",
   "metadata": {},
   "source": [
    "### ★ My while Loop Block Practice"
   ]
  },
  {
   "cell_type": "code",
   "execution_count": 29,
   "id": "04458ecf-4d4f-468a-8d9e-cdc8e00f3fed",
   "metadata": {},
   "outputs": [
    {
     "name": "stdout",
     "output_type": "stream",
     "text": [
      "2\n",
      "4\n",
      "6\n",
      "8\n",
      "10\n"
     ]
    }
   ],
   "source": [
    "# Print only even numbers between 1 and 10 using a while loop -\n",
    "i = 2 # Initializing the loop variable\n",
    "\n",
    "# The loop only runs while i is less than or equal to 10\n",
    "while i <= 10:\n",
    "    print(i) # Prints the current value of i\n",
    "    i += 2 # Increments i by 2 (to only print even numbers)"
   ]
  },
  {
   "cell_type": "markdown",
   "id": "72f0c2f6-f9a3-49f6-8e3e-6674e3040b7d",
   "metadata": {},
   "source": [
    "## 5. `for` Loop Block\n",
    "\n",
    "## Explanation:\n",
    "\n",
    "A `for` loop iterates over a sequence like a list, tuple, or string. The loop runs once for each item in the sequence.\n",
    "\n",
    "## Syntax:\n",
    "\n",
    "```python\n",
    "for item in sequence:\n",
    "    # code block to run for each item in the sequence\n",
    "```\n",
    "\n",
    "## Example:"
   ]
  },
  {
   "cell_type": "code",
   "execution_count": null,
   "id": "873b4670-2d88-45e7-97da-067ac53c3737",
   "metadata": {},
   "outputs": [],
   "source": [
    "# Iterate over a list of numbers\n",
    "numbers = [1, 2, 3, 4, 5]  # Initialize a list of numbers\n",
    "\n",
    "# The loop runs once for each number in the list\n",
    "for number in numbers:\n",
    "    print(number)  # Print the current number in each iteration"
   ]
  },
  {
   "cell_type": "markdown",
   "id": "2000bd9d-3a4b-445a-9abd-793f1f05fcaf",
   "metadata": {},
   "source": [
    "---\n",
    "## Exercise:\n",
    "\n",
    "Write a `for` loop to calculate the sum of a list of numbers.\n",
    "\n",
    "Do you know the solution off the top of your head?"
   ]
  },
  {
   "cell_type": "code",
   "execution_count": null,
   "id": "8338c319-7bdc-4993-a5dd-56658ec33339",
   "metadata": {},
   "outputs": [],
   "source": [
    "# Initialize the list of numbers\n",
    "numbers = [1, 2, 3, 4, 5, 6, 7, 8, 9, 10]   \n",
    "\n",
    "# Write a for loop to calculate the sum of the list\n"
   ]
  },
  {
   "cell_type": "markdown",
   "id": "6ba78434-70fb-4e53-bfc3-1f284c57e0ac",
   "metadata": {},
   "source": [
    "### ★ My for Loop Block practice"
   ]
  },
  {
   "cell_type": "code",
   "execution_count": 36,
   "id": "3793f210-d953-448e-bd4d-ec9cd61eaa12",
   "metadata": {},
   "outputs": [
    {
     "name": "stdout",
     "output_type": "stream",
     "text": [
      "2\n",
      "6\n",
      "12\n",
      "20\n",
      "30\n",
      "42\n",
      "56\n",
      "72\n",
      "90\n",
      "110\n"
     ]
    }
   ],
   "source": [
    "# Initializing the list of numbers -\n",
    "numbers = [2, 4, 6, 8, 10, 12, 14, 16, 18, 20]\n",
    "\n",
    "# Defining the initial total -\n",
    "total = 0\n",
    "\n",
    "# Adding each number in the list -\n",
    "for number in numbers:\n",
    "    total += number\n",
    "    print(total)"
   ]
  },
  {
   "cell_type": "markdown",
   "id": "bf10fd81-9002-4cbb-9add-551066a7b12e",
   "metadata": {},
   "source": [
    "## 6. `for-break` and `for-continue` Block\n",
    "\n",
    "### Explanation:\n",
    "\n",
    "    `break`: Exits the loop prematurely if a condition is met.\n",
    "    `continue`: Skips the rest of the current iteration and moves to the next one.\n",
    "\n",
    "### Example with `break`:\n"
   ]
  },
  {
   "cell_type": "code",
   "execution_count": null,
   "id": "2b0a277e-a7d6-4621-86df-410cadd4638d",
   "metadata": {},
   "outputs": [],
   "source": [
    "# Use break to exit the loop early\n",
    "numbers = [1, 2, 3, 4, 5]\n",
    "\n",
    "# Loop through numbers and stop at 3\n",
    "for number in numbers:\n",
    "    if number == 3:\n",
    "        break  # Exit the loop when the number is 3\n",
    "    print(number)"
   ]
  },
  {
   "cell_type": "markdown",
   "id": "a612cb88-8452-4eb1-8706-84c7010c59b1",
   "metadata": {},
   "source": [
    "### Example with `continue`:"
   ]
  },
  {
   "cell_type": "code",
   "execution_count": null,
   "id": "78df4883-ee40-446e-acb5-c1cf2df7be39",
   "metadata": {},
   "outputs": [],
   "source": [
    "# Use continue to skip number 3\n",
    "numbers = [1, 2, 3, 4, 5]\n",
    "\n",
    "# Loop through numbers and skip 3\n",
    "for number in numbers:\n",
    "    if number == 3:\n",
    "        continue  # Skip the number 3\n",
    "    print(number)"
   ]
  },
  {
   "cell_type": "markdown",
   "id": "1fd32f4e-bd46-436c-8312-a37c0abae0b9",
   "metadata": {},
   "source": [
    "---\n",
    "### Exercise:\n",
    "\n",
    "Write a `for` loop to iterate over a list of numbers and print them, but use `continue` to skip any number divisible by 3."
   ]
  },
  {
   "cell_type": "code",
   "execution_count": null,
   "id": "c5c8bdff-3feb-4589-a8c3-7f5109412b5c",
   "metadata": {},
   "outputs": [],
   "source": [
    "# Initialize the list of numbers\n",
    "numbers = [1, 2, 3, 4, 5, 6, 7, 8, 9]\n",
    "\n",
    "# Write a for loop with continue to skip numbers divisible by 3"
   ]
  },
  {
   "cell_type": "markdown",
   "id": "763cec64-1c8c-4730-8ac2-a2880cc68ca0",
   "metadata": {},
   "source": [
    "### ★ My for-break and for-continue Block Practice"
   ]
  },
  {
   "cell_type": "code",
   "execution_count": 37,
   "id": "12593f9f-cfe4-454b-8142-5d1fad02e21f",
   "metadata": {},
   "outputs": [
    {
     "name": "stdout",
     "output_type": "stream",
     "text": [
      "1\n",
      "2\n",
      "4\n",
      "5\n",
      "7\n",
      "8\n",
      "10\n",
      "11\n",
      "13\n",
      "14\n"
     ]
    }
   ],
   "source": [
    "# Initializing the list of numbers -\n",
    "numbers = [1, 2, 3, 4, 5, 6, 7, 8, 9, 10, 11, 12, 13, 14, 15]\n",
    "\n",
    "# Loop that skips numbers divisible by 3 -\n",
    "for number in numbers:\n",
    "    if (number % 3 == 0):\n",
    "        continue # Skips the number divisible evenly by 3\n",
    "    print(number)"
   ]
  },
  {
   "cell_type": "markdown",
   "id": "1ce98d82-9888-4d05-b466-549fdfb3b89e",
   "metadata": {},
   "source": [
    "## 7. `try-except` Block\n",
    "\n",
    "### Explanation:\n",
    "\n",
    "The `try-except` block helps handle errors (exceptions) in your code without stopping the program.\n",
    "\n",
    "### Syntax:\n",
    "\n",
    "```python\n",
    "try:\n",
    "    # code that might raise an exception\n",
    "except ExceptionType:\n",
    "    # code to run if an exception occurs\n",
    "```\n",
    "\n",
    "### Example:"
   ]
  },
  {
   "cell_type": "code",
   "execution_count": null,
   "id": "8e673904-8c86-4eed-a98c-cd3a2892be59",
   "metadata": {},
   "outputs": [],
   "source": [
    "a = 0 # try some numbers, including 0\n",
    "\n",
    "# Try to handle division by zero\n",
    "try:\n",
    "    result = 10 / a  # This will raise a ZeroDivisionError\n",
    "    print(a)\n",
    "except ZeroDivisionError:  # Catch the specific error\n",
    "    print(\"Error: Division by zero is not allowed.\")\n"
   ]
  },
  {
   "cell_type": "markdown",
   "id": "f52e97b3-30f2-418e-ae79-848cb985d941",
   "metadata": {},
   "source": [
    "## 8. `def` (Functions) Block\n",
    "\n",
    "### Explanation:\n",
    "\n",
    "Functions are defined using the `def` keyword. A function is a reusable block of code that performs a specific task.\n",
    "\n",
    "### Syntax:\n",
    "\n",
    "```python\n",
    "def function_name(parameters):\n",
    "    # code block\n",
    "    return result\n",
    "```\n",
    "\n",
    "### Example:"
   ]
  },
  {
   "cell_type": "code",
   "execution_count": null,
   "id": "6f60fece-1404-4410-8ce5-99f0833c63e3",
   "metadata": {},
   "outputs": [],
   "source": [
    "# Define a function to add two numbers\n",
    "def add_numbers(a, b):\n",
    "    return a + b  # Return the sum of the two numbers\n",
    "\n",
    "# Call the function with arguments 3 and 5\n",
    "result = add_numbers(3, 5)\n",
    "print(\"Sum:\", result)  # Output: Sum: 8\n"
   ]
  },
  {
   "cell_type": "code",
   "execution_count": null,
   "id": "2d1a79fd-56c4-4df8-bf3b-aba0e64b3c9b",
   "metadata": {},
   "outputs": [],
   "source": [
    "# call the defined function later on\n",
    "add_numbers(1.2, 3.7)"
   ]
  },
  {
   "cell_type": "markdown",
   "id": "b7f8b002-7ca3-4bed-a6b2-b8f7f91e8c8b",
   "metadata": {},
   "source": [
    "---\n",
    "\n",
    "## Exercise:\n",
    "\n",
    "Write a function that takes two lists (vectors) and returns their element-wise sum, returning a vector. The function should check that the lists are of the same length. You can use any of the control sequences we have introduced above."
   ]
  },
  {
   "cell_type": "code",
   "execution_count": null,
   "id": "13c1931e-b0af-44de-9bbb-cfd3750e52b4",
   "metadata": {},
   "outputs": [],
   "source": [
    "# Initialize two lists (vectors). Try some of your own.\n",
    "vector1 = [1, 2, 3]\n",
    "vector2 = [4, 5, 6]\n",
    "\n",
    "# Write a function that takes two lists (vectors) and returns their element-wise sum, returning a vector\n"
   ]
  },
  {
   "cell_type": "markdown",
   "id": "39369830-90a8-43b7-81dd-356d28b8177f",
   "metadata": {},
   "source": [
    "### ★ My Vector Addition Practice"
   ]
  },
  {
   "cell_type": "code",
   "execution_count": 46,
   "id": "3ed1e070-8999-4ae9-9f82-82cea1ae24e7",
   "metadata": {},
   "outputs": [
    {
     "name": "stdout",
     "output_type": "stream",
     "text": [
      "Resulting vector: [ 3  6 12]\n"
     ]
    }
   ],
   "source": [
    "# My two lists (vectors) -\n",
    "vector1 = [1, 3, 7]\n",
    "vector2 = [2, 3, 5]\n",
    "\n",
    "# Importing numpy\n",
    "import numpy as np\n",
    "\n",
    "vector1 = np.array([1, 3, 7])\n",
    "vector2 = np.array([2, 3, 5])\n",
    "\n",
    "# Function for adding these vectors and returning another vector -\n",
    "def add_vectors(vector1, vector2):\n",
    "    return np.add(vector1, vector2)\n",
    "\n",
    "# Calling the function -\n",
    "result = np.add(vector1, vector2)\n",
    "print(\"Resulting vector:\", result)"
   ]
  },
  {
   "cell_type": "markdown",
   "id": "2fcc84d2-db3f-4403-8c40-d5abab7bbd49",
   "metadata": {},
   "source": [
    "---\n",
    "\n",
    "## Exercise:\n",
    "\n",
    "Write a function that takes two lists (vectors) and returns their dot-product, returning a scalar. The function should check that the lists are of the same length. You can use any of the control sequences we have introduced above."
   ]
  },
  {
   "cell_type": "code",
   "execution_count": null,
   "id": "a545637b-193d-43e9-89c5-74bc6c7cc149",
   "metadata": {},
   "outputs": [],
   "source": [
    "# Initialize two lists (vectors). Try some of your own.\n",
    "vector1 = [1, 2, 3]\n",
    "vector2 = [4, 5, 6]\n",
    "\n",
    "# Write a function that takes two lists (vectors) and returns their dot-product, returning a scalar\n"
   ]
  },
  {
   "cell_type": "markdown",
   "id": "4e28e7fb-81d1-43cb-bd17-df175f4c9bc4",
   "metadata": {},
   "source": [
    "### ★ My Vector Dot Product Practice"
   ]
  },
  {
   "cell_type": "code",
   "execution_count": 47,
   "id": "4959d804-d10a-45d8-9a70-ccbe084e41a2",
   "metadata": {},
   "outputs": [
    {
     "name": "stdout",
     "output_type": "stream",
     "text": [
      "Resulting vector: 46\n"
     ]
    }
   ],
   "source": [
    "# My two lists (vectors) -\n",
    "vector1 = [1, 3, 7]\n",
    "vector2 = [2, 3, 5]\n",
    "\n",
    "# Importing numpy\n",
    "import numpy as np\n",
    "\n",
    "vector1 = np.array([1, 3, 7])\n",
    "vector2 = np.array([2, 3, 5])\n",
    "\n",
    "# Function for returning the dot-product of the two vectors - \n",
    "def dot_vectors(vector1, vector2):\n",
    "    return np.dot(vector1, vector2)\n",
    "\n",
    "# Calling the function -\n",
    "result = np.dot(vector1, vector2)\n",
    "print(\"Resulting vector:\", result)"
   ]
  }
 ],
 "metadata": {
  "kernelspec": {
   "display_name": "Python 3 (ipykernel)",
   "language": "python",
   "name": "python3"
  },
  "language_info": {
   "codemirror_mode": {
    "name": "ipython",
    "version": 3
   },
   "file_extension": ".py",
   "mimetype": "text/x-python",
   "name": "python",
   "nbconvert_exporter": "python",
   "pygments_lexer": "ipython3",
   "version": "3.9.19"
  }
 },
 "nbformat": 4,
 "nbformat_minor": 5
}
