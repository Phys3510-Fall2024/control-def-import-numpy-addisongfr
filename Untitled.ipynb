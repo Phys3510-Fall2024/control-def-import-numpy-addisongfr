{
 "cells": [
  {
   "cell_type": "markdown",
   "id": "ca861b76-e420-46e1-a213-5c90e543d516",
   "metadata": {},
   "source": [
    "### Simple Harmonic Motion"
   ]
  },
  {
   "cell_type": "code",
   "execution_count": 5,
   "id": "a33499ed-ba61-48bd-8458-13777a2db5d4",
   "metadata": {},
   "outputs": [
    {
     "name": "stdout",
     "output_type": "stream",
     "text": [
      "['__doc__', '__loader__', '__name__', '__package__', '__spec__', 'acos', 'acosh', 'asin', 'asinh', 'atan', 'atan2', 'atanh', 'ceil', 'comb', 'copysign', 'cos', 'cosh', 'degrees', 'dist', 'e', 'erf', 'erfc', 'exp', 'expm1', 'fabs', 'factorial', 'floor', 'fmod', 'frexp', 'fsum', 'gamma', 'gcd', 'hypot', 'inf', 'isclose', 'isfinite', 'isinf', 'isnan', 'isqrt', 'lcm', 'ldexp', 'lgamma', 'log', 'log10', 'log1p', 'log2', 'modf', 'nan', 'nextafter', 'perm', 'pi', 'pow', 'prod', 'radians', 'remainder', 'sin', 'sinh', 'sqrt', 'tan', 'tanh', 'tau', 'trunc', 'ulp']\n"
     ]
    }
   ],
   "source": [
    "# Importing the Math Library -\n",
    "import math\n",
    "print(dir(math))\n",
    "# # Defining our harmonic motion function -\n",
    "def harmonic_motion(t, omega, x0, v0):\n",
    "    \"\"\"\n",
    "    This function outputs the position and velocity of a harmonic oscillator (simple spring-mass system) at a desired time\n",
    "    \n",
    "    Input:\n",
    "    t: time in seconds\n",
    "    omega: resonant frequency (omega = math.sqrt(k/m))\n",
    "    x0: initial position\n",
    "    v0: initial velocity\n",
    "\n",
    "    Output/Return:\n",
    "    x: position\n",
    "    v: velocity\n",
    "    \"\"\"\n",
    "    # Position as a function of time -\n",
    "    x = x0 * math.cos(omega * t) + (v0/omega) * math.sin(omega * t)\n",
    "\n",
    "    # Velocity as a function of time -\n",
    "    v = - omega * x0 * math.sin(omega * t) + v0 * math.cos(omega * t)\n",
    "\n",
    "    return x, v"
   ]
  },
  {
   "cell_type": "code",
   "execution_count": 12,
   "id": "0fcf5052-75ae-4513-946a-c6810dc1a249",
   "metadata": {},
   "outputs": [
    {
     "data": {
      "text/plain": [
       "[-3.0999999999999996, -2.0000000000000004]"
      ]
     },
     "execution_count": 12,
     "metadata": {},
     "output_type": "execute_result"
    }
   ],
   "source": [
    "# Testing our Function -\n",
    "time = 1 * math.pi/omega # units TBD\n",
    "omega = 1 # units TBD\n",
    "initial_position = 3.1 # units TBD\n",
    "initial_velocity = 2.0 # units TBD\n",
    "position, velocity = harmonic_motion(time, omega, initial_position, initial_velocity)\n",
    "[position, velocity]"
   ]
  },
  {
   "cell_type": "code",
   "execution_count": null,
   "id": "68d47ced-68d3-4bbf-9927-e57121297530",
   "metadata": {},
   "outputs": [],
   "source": []
  }
 ],
 "metadata": {
  "kernelspec": {
   "display_name": "Python 3 (ipykernel)",
   "language": "python",
   "name": "python3"
  },
  "language_info": {
   "codemirror_mode": {
    "name": "ipython",
    "version": 3
   },
   "file_extension": ".py",
   "mimetype": "text/x-python",
   "name": "python",
   "nbconvert_exporter": "python",
   "pygments_lexer": "ipython3",
   "version": "3.9.19"
  }
 },
 "nbformat": 4,
 "nbformat_minor": 5
}
