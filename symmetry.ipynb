{
 "cells": [
  {
   "cell_type": "markdown",
   "id": "b53b3553-0ddf-4078-bb95-d50f76f2ea6a",
   "metadata": {},
   "source": [
    "# Symmetry Operations"
   ]
  },
  {
   "cell_type": "markdown",
   "id": "557f7cc7-07fd-43da-94a4-3a8ab7c99623",
   "metadata": {},
   "source": [
    "### ★ Resubmission Changes -\n",
    "\n",
    "Overall fixes - \n",
    "- Changed the definition of scalar product from a * b to c * c in all code\n",
    "- Added more explanatory text (all marked with ###)\n",
    "\n",
    "One-Dimensional Objects -\n",
    "- Changed definition of a, b, & c to use np.array() instead of just the matrix itself\n",
    "- Changed definition of the symmetry operations to return, instead of print (ex. changed print(np.dot(c,c)) to return np.dot(c,c) for scalar definition)\n",
    "\n",
    "Four Symmetry Operations -\n",
    "- Fixed mirroring across x-axis to be across y-axis\n",
    "\n",
    "Operations on Scalar -\n",
    "- Fixed all instances of operations applied to (a,b) instead of (c,c)\n",
    "- Fixed mirroring across x-axis to be across y-axis\n",
    "\n",
    "Symmetry Operations Table -\n",
    "- Fixed my original table, which just had the exact outputs of the operations listed, to list either 1 or -1 instead based on the symmetry of the output\n",
    "- Fixed mirroring across x-axis to be across y-axis\n",
    "\n",
    "Questions -\n",
    "- Answered questions at end of assignment originally overlooked!"
   ]
  },
  {
   "cell_type": "markdown",
   "id": "eef18c2e-837b-464b-9f4f-9c3eedee6488",
   "metadata": {},
   "source": [
    "### One-Dimensional Objects"
   ]
  },
  {
   "cell_type": "code",
   "execution_count": 36,
   "id": "b943978c-3135-4bb7-95a9-780f4ea4d3be",
   "metadata": {},
   "outputs": [
    {
     "name": "stdout",
     "output_type": "stream",
     "text": [
      "1\n",
      "1\n",
      "[0 0 1]\n",
      "[0 0 1]\n"
     ]
    }
   ],
   "source": [
    "# Importing numpy -\n",
    "import numpy as np\n",
    "\n",
    "# Constructing scalars, pseudoscalars, polar vectors, and axial vectors from these Cartesian vectors-\n",
    "a = np.array([1, 0, 0])\n",
    "b = np.array([0, 1, 0])\n",
    "c = np.array([0, 0, 1])\n",
    "\n",
    "### Defining the four objects -\n",
    "def scalar(c):\n",
    "    return np.dot(c,c) # Dot product ### Resubmission - changed to c dot c\n",
    "def pseudoscalar(a, b, c):\n",
    "    return np.dot(c, np.cross(a, b)) # Scalar triple product\n",
    "def polarvector(c):\n",
    "    return c # No operation\n",
    "def axialvector(a, b):\n",
    "    return np.cross(a, b) # Cross product\n",
    "\n",
    "# Calling the objects -\n",
    "print(scalar(c)) ### Dot product of a & b\n",
    "print(pseudoscalar(a, b, c)) ### Scalar triple product of a, b, & c\n",
    "print(polarvector(c)) ### No operation, just returning c\n",
    "print(axialvector(a, b)) ### Cross product of a & b"
   ]
  },
  {
   "cell_type": "markdown",
   "id": "dc654a8d-3b35-462c-b4be-aa3f721840bd",
   "metadata": {},
   "source": [
    "#### Identity Operation"
   ]
  },
  {
   "cell_type": "code",
   "execution_count": 37,
   "id": "b9e463b7-8db7-4fc2-ae38-65041e01702a",
   "metadata": {},
   "outputs": [
    {
     "name": "stdout",
     "output_type": "stream",
     "text": [
      "1\n",
      "1\n",
      "[0 0 1]\n",
      "[0 0 1]\n"
     ]
    }
   ],
   "source": [
    "# Identity operation on a matrix -\n",
    "identity = np.array(\n",
    "     [[1, 0, 0]\n",
    "     ,[0, 1, 0]     # The identity operation doesn't change anything here\n",
    "     ,[0, 0, 1]]\n",
    "     )\n",
    "\n",
    "# Identity operation on my objects -\n",
    "id_scalar = np.dot(identity @ c, identity @ c) ### Resubmission - changed to c dot c\n",
    "print(id_scalar)\n",
    "\n",
    "id_pseudoscalar = np.dot(identity @ c, np.cross(identity @ a, identity @ b))\n",
    "print(id_pseudoscalar)\n",
    "\n",
    "id_polarvector = identity @ c\n",
    "print(id_polarvector)\n",
    "\n",
    "id_axialvector = np.cross(identity @ a, identity @ b)\n",
    "print(id_axialvector)"
   ]
  },
  {
   "cell_type": "markdown",
   "id": "c8f21cbb-c31b-493a-8838-9be174015093",
   "metadata": {},
   "source": [
    "#### Four Symmetry Operations"
   ]
  },
  {
   "cell_type": "code",
   "execution_count": 65,
   "id": "9509e79d-52bb-4029-998c-80c92cbc9dc5",
   "metadata": {},
   "outputs": [],
   "source": [
    "# Defining symmetry operations -\n",
    "inversion = np.array(         # Inversion operation\n",
    "               [[-1, 0, 0]    # This inverts the x, y, and z direction of the object\n",
    "               ,[0, -1, 0]\n",
    "               ,[0, 0, -1]]\n",
    ")\n",
    "\n",
    "mirror_z = np.array(          # Mirroring in the xy-plane\n",
    "               [[1, 0, -0]    # This inverts the z direction of the object\n",
    "               ,[0, 1, -0]\n",
    "               ,[0, 0, -1]]\n",
    ")\n",
    "\n",
    "mirror_y = np.array(          ### Mirroring in the xz-plane\n",
    "               [[1, -0, 0]    ### This inverts the y direction of the object\n",
    "               ,[0, -1, 0]\n",
    "               ,[0, -0, 1]]\n",
    ")\n",
    "\n",
    "rotation_x_180 = np.array(    # Rotating 180 degrees about the x-axis\n",
    "               [[1, -0, -0]   # This inverts y and z direction of the object\n",
    "               ,[0, -1, -0]\n",
    "               ,[0, -0, -1]]\n",
    ")"
   ]
  },
  {
   "cell_type": "markdown",
   "id": "7e3a0ad5-5818-4bf5-bcde-92fbb95a0f9f",
   "metadata": {},
   "source": [
    "#### Symmetry Operations on Scalar"
   ]
  },
  {
   "cell_type": "code",
   "execution_count": 60,
   "id": "fd4d9d0d-0654-486d-874e-f87ac5cfb7d7",
   "metadata": {},
   "outputs": [
    {
     "name": "stdout",
     "output_type": "stream",
     "text": [
      "1\n",
      "1\n",
      "1\n",
      "1\n"
     ]
    }
   ],
   "source": [
    "# Applying to scalar -\n",
    "\n",
    "inv_scalar = np.dot(inversion @ c, inversion @ c)            # Inverting scalar\n",
    "print(inv_scalar)\n",
    "mz_scalar = np.dot(mirror_z @ c, mirror_z @ c)               # Mirroring scalar in xy-plane\n",
    "print(mz_scalar)\n",
    "my_scalar = np.dot(mirror_y @ c, mirror_y @ c)               ### Mirroring scalar in xz-plane\n",
    "print(my_scalar)\n",
    "rx_scalar = np.dot(rotation_x_180 @ c, rotation_x_180 @ c)   # Rotating scalar 180 degrees about the x-axis\n",
    "print(rx_scalar)"
   ]
  },
  {
   "cell_type": "markdown",
   "id": "6fce26a4-6cfc-4de2-9195-5ac1f623ab27",
   "metadata": {},
   "source": [
    "#### Symmetry Operations on Pseudoscalar"
   ]
  },
  {
   "cell_type": "code",
   "execution_count": 62,
   "id": "b65e6035-ed7b-4fdc-9f92-11a9b5fc6258",
   "metadata": {},
   "outputs": [
    {
     "name": "stdout",
     "output_type": "stream",
     "text": [
      "-1\n",
      "-1\n",
      "-1\n",
      "1\n"
     ]
    }
   ],
   "source": [
    "# Applying to pseudoscalar -\n",
    "\n",
    "inv_pseudoscalar = np.dot(inversion @ c, np.cross((inversion @ a), (inversion @ b)))            # Inverting pseudoscalar\n",
    "print(inv_pseudoscalar)\n",
    "mz_pseudoscalar = np.dot(mirror_z @ c, np.cross(mirror_z @ a, mirror_z @ b))                    # Mirroring pseudoscalar in xy-plane\n",
    "print(mz_pseudoscalar)\n",
    "my_pseudoscalar = np.dot(mirror_y @ c, np.cross(mirror_y @ a, mirror_y @ b))                    ### Mirroring pseudoscalar in xz-plane\n",
    "print(my_pseudoscalar)\n",
    "rx_pseudoscalar = np.dot(rotation_x_180 @ c, np.cross(rotation_x_180 @ a, rotation_x_180 @ b))  # Rotating pseudoscalar 180 degrees about the x-axis\n",
    "print(rx_pseudoscalar)"
   ]
  },
  {
   "cell_type": "markdown",
   "id": "429c7e25-2233-4257-8c5f-1b8f2273bdb7",
   "metadata": {},
   "source": [
    "#### Symmetry Operations on Polar Vector"
   ]
  },
  {
   "cell_type": "code",
   "execution_count": 57,
   "id": "f51bfad9-4204-4c4a-b3ad-c13c0f65ff02",
   "metadata": {},
   "outputs": [
    {
     "name": "stdout",
     "output_type": "stream",
     "text": [
      "[ 0  0 -1]\n",
      "[ 0  0 -1]\n",
      "[0 0 1]\n",
      "[ 0  0 -1]\n"
     ]
    }
   ],
   "source": [
    "# Applying to polar vector -\n",
    "\n",
    "inv_polarvector = inversion @ c      # Inverting polar vector\n",
    "print(inv_polarvector)\n",
    "mz_polarvector = mirror_z @ c        # Mirroring polar vector in xy-plane\n",
    "print(mz_polarvector)\n",
    "my_polarvector = mirror_y @ c        ### Mirroring polar vector in xz-plane\n",
    "print(my_polarvector)\n",
    "rx_polarvector = rotation_x_180 @ c  # Rotating polar vector 180 degrees about the x-axis\n",
    "print(rx_polarvector)"
   ]
  },
  {
   "cell_type": "markdown",
   "id": "b9f01aa7-9295-4d25-93c8-4d8520ceb507",
   "metadata": {},
   "source": [
    "#### Symmetry Operations on Axial Vector"
   ]
  },
  {
   "cell_type": "code",
   "execution_count": 59,
   "id": "e90ac966-0f0f-4ef8-a641-205a74527963",
   "metadata": {},
   "outputs": [
    {
     "name": "stdout",
     "output_type": "stream",
     "text": [
      "[0 0 1]\n",
      "[0 0 1]\n",
      "[ 0  0 -1]\n",
      "[ 0  0 -1]\n"
     ]
    }
   ],
   "source": [
    "# Applying to axial vector -\n",
    "\n",
    "inv_axialvector = np.cross(inversion @ a, inversion @ b)           # Inverting axial vector\n",
    "print(inv_axialvector)\n",
    "mz_axialvector = np.cross(mirror_z @ a, mirror_z @ b)              # Mirroring axial vector in xy-plane\n",
    "print(mz_axialvector)\n",
    "my_axialvector = np.cross(mirror_y @ a, mirror_y @ b)              ### Mirroring axial vector in xz-plane\n",
    "print(my_axialvector)\n",
    "rx_axialvector = np.cross(rotation_x_180 @ a, rotation_x_180 @ b)  # Rotating axial vector 180 degrees about the x-axis\n",
    "print(rx_axialvector)"
   ]
  },
  {
   "cell_type": "markdown",
   "id": "93f7cdec-5efe-4c41-acd5-5da27f2908e3",
   "metadata": {},
   "source": [
    "#### Symmetry Operations Table"
   ]
  },
  {
   "cell_type": "markdown",
   "id": "08d892a5-0e03-4e87-b628-452fea85e61d",
   "metadata": {},
   "source": [
    "|1D Object    |Identity |Inversion |Mirror_z |Mirror_y |Rotation_x_180 |\n",
    "|-------------|---------|----------|---------|---------|---------------|\n",
    "|Scalar       |1        |1         |1        |1        |1              |\n",
    "|Pseudoscalar |1        |-1        |-1       |-1       |1              |\n",
    "|Polar Vector |1        |-1        |-1       |1        |-1             |\n",
    "|Axial Vector |1        |1         |1        |-1       |-1             |\n",
    "\n",
    "For the scalar object, we find that the symmetry is even under all operations.\n",
    "\n",
    "For the pseudoscalar object, we find that the symmetry is even even under the identity and x-axis rotation operations, but odd under the inversion, z-axis mirror, and y-axis mirror operations.\n",
    "\n",
    "For the polar vector object, we find that the symmetry is even under the identity and y-axis mirror operations, but odd under the inversion, z-axis mirror, and x-axis rotation operations.\n",
    "\n",
    "For the axial vector object, we find that the symmetry is even under the identity, inversion, and z-axis mirror operations, but odd under the y-axis mirror and the x-axis rotation operations."
   ]
  },
  {
   "cell_type": "markdown",
   "id": "f4f1b94e-cba7-4e53-bf20-f64dcacbb527",
   "metadata": {},
   "source": [
    "### Questions"
   ]
  },
  {
   "cell_type": "markdown",
   "id": "b386e5bc-04a4-407f-90c6-503a68b355e5",
   "metadata": {},
   "source": [
    "#### 1. Are any of these operations redundant?\n",
    "- The identity operation does not change any aspect of the object, only restating the original properties of the object- this could be considered redundant, but it serves as a helpful baseline for the rest of the symmetry table. In this symmetry table, the inversion operation and the mirroring across the z-axis operation happen to have the same outcome across the four objects, so together, they are redundant in this case- however, this may not the case for objects created from different coordinates. Mirroring across the y-axis and rotating 180 degrees about the x-axis both have unique symmetry outcomes in this table.\n",
    "\n",
    "#### 2. Assigning the labels $Q_1$ to scalars, $Q_2$ to pseudoscalars, $Q_3$ to polar vectors, and $Q_4$ to axial vectors, and given that $Q_i, Q_j, Q_k$, etc. are coordinates of masses in a spring-mass system, are any terms $Q_i * Q_j$ possible? What about $Q_i * Q_j * Q_k$?\n",
    "- For these springs to be coupled, their multiplied coordinates must be even under all symmetry operations. From the symmetry table above, there is no $Q_i * Q_j$ term that is even under all operations- however, $Q_2 * Q_3 * Q_4$ is possible! $Q_2 * Q_3$ (pseudoscalar * polar vector) creates a row of symmetry identities of (1, 1, 1, -1, -1). Multiplied by $Q_4$ (axial vector) results in a row of (1, 1, 1, 1, 1). The energy is even under all of these symmetries, so these objects can be coupled together- and of course, this $Q_2 * Q_3 * Q_4$ system can be multiplied by $Q_1$ (scalar) and maintain its even symmetry, so this system is possible as well."
   ]
  }
 ],
 "metadata": {
  "kernelspec": {
   "display_name": "Python 3 (ipykernel)",
   "language": "python",
   "name": "python3"
  },
  "language_info": {
   "codemirror_mode": {
    "name": "ipython",
    "version": 3
   },
   "file_extension": ".py",
   "mimetype": "text/x-python",
   "name": "python",
   "nbconvert_exporter": "python",
   "pygments_lexer": "ipython3",
   "version": "3.9.19"
  }
 },
 "nbformat": 4,
 "nbformat_minor": 5
}
