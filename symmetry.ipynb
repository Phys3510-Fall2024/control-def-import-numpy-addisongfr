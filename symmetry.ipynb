{
 "cells": [
  {
   "cell_type": "markdown",
   "id": "b53b3553-0ddf-4078-bb95-d50f76f2ea6a",
   "metadata": {},
   "source": [
    "## Symmetry Operations"
   ]
  },
  {
   "cell_type": "markdown",
   "id": "eef18c2e-837b-464b-9f4f-9c3eedee6488",
   "metadata": {},
   "source": [
    "#### One-Dimensional Objects"
   ]
  },
  {
   "cell_type": "code",
   "execution_count": 11,
   "id": "b943978c-3135-4bb7-95a9-780f4ea4d3be",
   "metadata": {},
   "outputs": [
    {
     "name": "stdout",
     "output_type": "stream",
     "text": [
      "0\n",
      "1\n",
      "[0, 0, 1]\n",
      "[0 0 1]\n"
     ]
    }
   ],
   "source": [
    "# Importing numpy -\n",
    "import numpy as np\n",
    "\n",
    "# Constructing scalars, pseudoscalars, polar vectors, and axial vectors from these Cartesian vectors-\n",
    "a = [1, 0, 0]\n",
    "b = [0, 1, 0]\n",
    "c = [0, 0, 1]\n",
    "\n",
    "def scalar(a, b):\n",
    "    print(np.dot(a,b)) # Dot product\n",
    "def pseudoscalar(a, b, c):\n",
    "    print(np.dot(c, np.cross(a, b))) # Scalar triple product\n",
    "def polarvector(c):\n",
    "    print(c) # No operation\n",
    "def axialvector(a, b):\n",
    "    print(np.cross(a, b)) # Cross product\n",
    "\n",
    "# Calling the objects -\n",
    "scalar(a,b)\n",
    "pseudoscalar(a, b, c)\n",
    "polarvector(c)\n",
    "axialvector(a, b)"
   ]
  },
  {
   "cell_type": "markdown",
   "id": "dc654a8d-3b35-462c-b4be-aa3f721840bd",
   "metadata": {},
   "source": [
    "#### Identity Operation"
   ]
  },
  {
   "cell_type": "code",
   "execution_count": 25,
   "id": "b9e463b7-8db7-4fc2-ae38-65041e01702a",
   "metadata": {},
   "outputs": [
    {
     "name": "stdout",
     "output_type": "stream",
     "text": [
      "0\n",
      "1\n",
      "[0 0 1]\n",
      "[0 0 1]\n"
     ]
    }
   ],
   "source": [
    "# Identity operation on a matrix -\n",
    "identity = np.array(\n",
    "     [[1, 0, 0]\n",
    "     ,[0, 1, 0]     # The identity operation doesn't change anything here\n",
    "     ,[0, 0, 1]]\n",
    "     )\n",
    "\n",
    "# Identity operation on my objects -\n",
    "id_scalar = np.dot(identity @ a, identity @ b)\n",
    "print(id_scalar)\n",
    "\n",
    "id_pseudoscalar = np.dot(identity @ c, np.cross(identity @ a, identity @ b))\n",
    "print(id_pseudoscalar)\n",
    "\n",
    "id_polarvector = identity @ c\n",
    "print(id_polarvector)\n",
    "\n",
    "id_axialvector = np.cross(identity @ a, identity @ b)\n",
    "print(id_axialvector)"
   ]
  },
  {
   "cell_type": "markdown",
   "id": "c8f21cbb-c31b-493a-8838-9be174015093",
   "metadata": {},
   "source": [
    "#### Symmetry Operations"
   ]
  },
  {
   "cell_type": "code",
   "execution_count": 31,
   "id": "9509e79d-52bb-4029-998c-80c92cbc9dc5",
   "metadata": {},
   "outputs": [
    {
     "name": "stdout",
     "output_type": "stream",
     "text": [
      "[[-1  0  0]\n",
      " [ 0 -1  0]\n",
      " [ 0  0 -1]]\n",
      "[[ 1  0  0]\n",
      " [ 0  1  0]\n",
      " [ 0  0 -1]]\n",
      "[[-1  0  0]\n",
      " [ 0  1  0]\n",
      " [ 0  0  1]]\n",
      "[[ 1  0  0]\n",
      " [ 0 -1  0]\n",
      " [ 0  0 -1]]\n"
     ]
    }
   ],
   "source": [
    "# Defining symmetry operations -\n",
    "inversion = np.array(         # Inversion operation\n",
    "               [[-1, 0, 0]    # This inverts the x, y, and z direction of the object\n",
    "               ,[0, -1, 0]\n",
    "               ,[0, 0, -1]]\n",
    ")\n",
    "\n",
    "mirror_z = np.array(          # Mirroring in the xy-plane\n",
    "               [[1, 0, -0]    # This inverts the z direction of the object\n",
    "               ,[0, 1, -0]\n",
    "               ,[0, 0, -1]]\n",
    ")\n",
    "\n",
    "mirror_x = np.array(          # Mirroring in the yz-plane\n",
    "               [[-1, 0, 0]    # This inverts the x direction of the object\n",
    "               ,[-0, 1, 0]\n",
    "               ,[-0, 0, 1]]\n",
    ")\n",
    "\n",
    "rotation_x_180 = np.array(    # Rotating 180 degrees about the x-axis\n",
    "               [[1, -0, -0]   # This inverts y and z direction of the object\n",
    "               ,[0, -1, -0]\n",
    "               ,[0, -0, -1]]\n",
    ")\n",
    "\n",
    "print(inversion)\n",
    "print(mirror_z)\n",
    "print(mirror_x)\n",
    "print(rotation_x_180)"
   ]
  },
  {
   "cell_type": "markdown",
   "id": "7e3a0ad5-5818-4bf5-bcde-92fbb95a0f9f",
   "metadata": {},
   "source": [
    "#### Symmetry Operations on Scalar"
   ]
  },
  {
   "cell_type": "code",
   "execution_count": 32,
   "id": "fd4d9d0d-0654-486d-874e-f87ac5cfb7d7",
   "metadata": {},
   "outputs": [
    {
     "name": "stdout",
     "output_type": "stream",
     "text": [
      "0\n",
      "0\n",
      "0\n",
      "0\n"
     ]
    }
   ],
   "source": [
    "# Applying to scalar -\n",
    "\n",
    "inv_scalar = np.dot(inversion @ a, inversion @ b)            # Inverting scalar\n",
    "print(inv_scalar)\n",
    "mz_scalar = np.dot(mirror_z @ a, mirror_z @ b)               # Mirroring scalar in xy plane\n",
    "print(mz_scalar)\n",
    "mx_scalar = np.dot(mirror_x @ a, mirror_x @ b)               # Mirroring scalar in yz plane\n",
    "print(mx_scalar)\n",
    "rx_scalar = np.dot(rotation_x_180 @ a, rotation_x_180 @ b)   # Rotating scalar 180 degrees about the x-axis\n",
    "print(rx_scalar)"
   ]
  },
  {
   "cell_type": "markdown",
   "id": "6fce26a4-6cfc-4de2-9195-5ac1f623ab27",
   "metadata": {},
   "source": [
    "#### Symmetry Operations on Pseudoscalar"
   ]
  },
  {
   "cell_type": "code",
   "execution_count": 38,
   "id": "b65e6035-ed7b-4fdc-9f92-11a9b5fc6258",
   "metadata": {},
   "outputs": [
    {
     "name": "stdout",
     "output_type": "stream",
     "text": [
      "-1\n",
      "-1\n",
      "-1\n",
      "1\n"
     ]
    }
   ],
   "source": [
    "# Applying to pseudoscalar -\n",
    "\n",
    "inv_pseudoscalar = np.dot(inversion @ c, np.cross((inversion @ a), (inversion @ b)))            # Inverting pseudoscalar\n",
    "print(inv_pseudoscalar)\n",
    "mz_pseudoscalar = np.dot(mirror_z @ c, np.cross(mirror_z @ a, mirror_z @ b))                    # Mirroring pseudoscalar in xy plane\n",
    "print(mz_pseudoscalar)\n",
    "mx_pseudoscalar = np.dot(mirror_x @ c, np.cross(mirror_x @ a, mirror_x @ b))                    # Mirroring pseudoscalar in yz plane\n",
    "print(mx_pseudoscalar)\n",
    "rx_pseudoscalar = np.dot(rotation_x_180 @ c, np.cross(rotation_x_180 @ a, rotation_x_180 @ b))  # Rotating pseudoscalar 180 degrees about the x-axis\n",
    "print(rx_pseudoscalar)"
   ]
  },
  {
   "cell_type": "markdown",
   "id": "429c7e25-2233-4257-8c5f-1b8f2273bdb7",
   "metadata": {},
   "source": [
    "#### Symmetry Operations on Polar Vector"
   ]
  },
  {
   "cell_type": "code",
   "execution_count": 41,
   "id": "f51bfad9-4204-4c4a-b3ad-c13c0f65ff02",
   "metadata": {},
   "outputs": [
    {
     "name": "stdout",
     "output_type": "stream",
     "text": [
      "[ 0  0 -1]\n",
      "[ 0  0 -1]\n",
      "[0 0 1]\n",
      "[ 0  0 -1]\n"
     ]
    }
   ],
   "source": [
    "# Applying to polar vector -\n",
    "\n",
    "inv_polarvector = inversion @ c      # Inverting polar vector\n",
    "print(inv_polarvector)\n",
    "mz_polarvector = mirror_z @ c        # Mirroring polar vector in xy place\n",
    "print(mz_polarvector)\n",
    "mx_polarvector = mirror_x @ c        # Mirroring polar vector in yz place\n",
    "print(mx_polarvector)\n",
    "rx_polarvector = rotation_x_180 @ c  # Rotating polar vector 180 degrees about the x-axis\n",
    "print(rx_polarvector)"
   ]
  },
  {
   "cell_type": "markdown",
   "id": "b9f01aa7-9295-4d25-93c8-4d8520ceb507",
   "metadata": {},
   "source": [
    "#### Symmetry Operations on Axial Vector"
   ]
  },
  {
   "cell_type": "code",
   "execution_count": 43,
   "id": "e90ac966-0f0f-4ef8-a641-205a74527963",
   "metadata": {},
   "outputs": [
    {
     "name": "stdout",
     "output_type": "stream",
     "text": [
      "[0 0 1]\n",
      "[0 0 1]\n",
      "[ 0  0 -1]\n",
      "[ 0  0 -1]\n"
     ]
    }
   ],
   "source": [
    "# Applying to axial vector -\n",
    "\n",
    "inv_axialvector = np.cross(inversion @ a, inversion @ b)           # Inverting polar vector\n",
    "print(inv_axialvector)\n",
    "mz_axialvector = np.cross(mirror_z @ a, mirror_z @ b)              # Mirroring polar vector in xy place\n",
    "print(mz_axialvector)\n",
    "mx_axialvector = np.cross(mirror_x @ a, mirror_x @ b)              # Mirroring polar vector in yz place\n",
    "print(mx_axialvector)\n",
    "rx_axialvector = np.cross(rotation_x_180 @ a, rotation_x_180 @ b)  # Rotating polar vector 180 degrees about the x-axis\n",
    "print(rx_axialvector)"
   ]
  },
  {
   "cell_type": "markdown",
   "id": "93f7cdec-5efe-4c41-acd5-5da27f2908e3",
   "metadata": {},
   "source": [
    "#### Symmetry Operations Table"
   ]
  },
  {
   "cell_type": "markdown",
   "id": "08d892a5-0e03-4e87-b628-452fea85e61d",
   "metadata": {},
   "source": [
    "|1D Object    |Identity |Inversion |Mirror_z |Mirror_x |Rotation_x_180 |\n",
    "|-------------|---------|----------|---------|---------|---------------|\n",
    "|Scalar       |0        |0         |0        |0        |0              |\n",
    "|Pseudoscalar |1        |-1        |-1       |-1       |1              |\n",
    "|Polar Vector |[0 0 1]  |[0 0 -1]  |[0 0 -1] |[0 0 1]  |[0 0 -1]       |\n",
    "|Axial Vector |[0 0 1]  |[0 0 1]   |[0 0 1]  |[0 0 -1] |[0 0 -1]       |"
   ]
  }
 ],
 "metadata": {
  "kernelspec": {
   "display_name": "Python 3 (ipykernel)",
   "language": "python",
   "name": "python3"
  },
  "language_info": {
   "codemirror_mode": {
    "name": "ipython",
    "version": 3
   },
   "file_extension": ".py",
   "mimetype": "text/x-python",
   "name": "python",
   "nbconvert_exporter": "python",
   "pygments_lexer": "ipython3",
   "version": "3.9.19"
  }
 },
 "nbformat": 4,
 "nbformat_minor": 5
}
