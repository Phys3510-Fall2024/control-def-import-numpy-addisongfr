{
 "cells": [
  {
   "cell_type": "markdown",
   "id": "2d52ac3d-80c4-4a67-9c1b-4fa2f7ed00f0",
   "metadata": {},
   "source": [
    "## Simple Harmonic Motion"
   ]
  },
  {
   "cell_type": "markdown",
   "id": "eef18c2e-837b-464b-9f4f-9c3eedee6488",
   "metadata": {},
   "source": [
    "#### One-Dimensional Objects"
   ]
  },
  {
   "cell_type": "code",
   "execution_count": 13,
   "id": "b943978c-3135-4bb7-95a9-780f4ea4d3be",
   "metadata": {},
   "outputs": [],
   "source": [
    "\n"
   ]
  },
  {
   "cell_type": "code",
   "execution_count": null,
   "id": "8fdc6bfc-3aa9-4302-b828-dbde83ee6b94",
   "metadata": {},
   "outputs": [],
   "source": []
  }
 ],
 "metadata": {
  "kernelspec": {
   "display_name": "",
   "name": ""
  },
  "language_info": {
   "name": ""
  }
 },
 "nbformat": 4,
 "nbformat_minor": 5
}
